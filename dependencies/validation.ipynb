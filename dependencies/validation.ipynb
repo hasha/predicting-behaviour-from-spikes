{
 "cells": [
  {
   "cell_type": "code",
   "execution_count": 3,
   "metadata": {
    "collapsed": false
   },
   "outputs": [],
   "source": [
    "from sklearn.linear_model import LogisticRegression\n",
    "import scipy.io as sio\n",
    "from sklearn.model_selection import train_test_split\n",
    "from sklearn.model_selection import cross_val_score\n",
    "from sklearn.model_selection import GridSearchCV\n",
    "from sklearn import metrics\n",
    "import numpy as np"
   ]
  },
  {
   "cell_type": "code",
   "execution_count": 4,
   "metadata": {
    "collapsed": false
   },
   "outputs": [
    {
     "data": {
      "text/plain": [
       "array([ 0.60813278,  0.67973469,  0.67210526,  0.5440448 ,  0.51203207,\n",
       "        0.50884703,  0.63074866,  0.5265462 ,  0.53562724,  0.54212439,\n",
       "        0.82772727,  0.57520161,  0.63704164,  0.57356756,  0.56180893,\n",
       "        0.51751825,  0.6126915 ,  0.53321277,  0.51828382,  0.54688682,\n",
       "        0.63255159,  0.56507017,  0.59481481,  0.53280414,  0.56895199,\n",
       "        0.52415679,  0.70494405,  0.55062317,  0.51744868,  0.54859202,\n",
       "        0.54001876,  0.53220811,  0.63177051,  0.59513357,  0.55993136,\n",
       "        0.55080214,  0.49209911,  0.69394123,  0.56927723,  0.69548387,\n",
       "        0.67325203,  0.57235727,  0.53379263,  0.50647763,  0.65973823,\n",
       "        0.5555929 ,  0.54985749])"
      ]
     },
     "execution_count": 4,
     "metadata": {},
     "output_type": "execute_result"
    }
   ],
   "source": [
    "num_sessions = 47\n",
    "accuracy_both = []\n",
    "accuracy_fr = []\n",
    "accuracy_r = []\n",
    "\n",
    "#f1_score = make_scorer(f1_score)\n",
    "\n",
    "def tune_parameters(features,labels):\n",
    "    clf = SVC()\n",
    "    param_grid = [{'C': [1, 10, 100, 200, 300, 400, 500, 600, 700], 'gamma': [1e-2, 1e-3, 1e-4, 1e-5, 1e-6], 'kernel': ['linear']}]\n",
    "    clf_tuned = GridSearchCV(clf, param_grid, scoring='accuracy')\n",
    "    clf_tuned.fit(features,labels)\n",
    "    clf_tuned = clf_tuned.best_estimator_\n",
    "    return clf_tuned\n",
    "\n",
    "for s in range(num_sessions):\n",
    "    all_trials = sio.loadmat(str(s+1) + \".mat\")\n",
    "    all_matrix = np.append(all_trials['fr_raw1'],all_trials['fr_raw2'],axis=1)\n",
    "    all_matrix = np.append(all_matrix,np.absolute(all_trials['r_raw']),axis=1)\n",
    "    all_matrix = np.append(all_matrix,all_trials['b'],axis=1)\n",
    "    \n",
    "    # tune parameters of SVC model\n",
    "    #clf = tune_parameters(all_matrix[:,0:3], all_matrix[:,-1])\n",
    "    clf = LogisticRegression()\n",
    "                                            \n",
    "    scores_both = cross_val_score(clf, all_matrix[:,0:3], all_matrix[:,-1], cv=10,scoring='accuracy')\n",
    "    scores_fr = cross_val_score(clf, all_matrix[:,0:2], all_matrix[:,-1], cv=10,scoring='accuracy')\n",
    "    scores_r = cross_val_score(clf, all_matrix[:,2:3], all_matrix[:,-1], cv=10,scoring='accuracy')\n",
    "    \n",
    "    accuracy_both.append(np.sum(scores_both)/10)\n",
    "    accuracy_fr.append(np.sum(scores_fr)/10)\n",
    "    accuracy_r.append(np.sum(scores_r)/10)\n",
    "\n",
    "np.asarray(accuracy_both)\n",
    "np.asarray(accuracy_fr)\n",
    "np.asarray(accuracy_r)"
   ]
  }
 ],
 "metadata": {
  "kernelspec": {
   "display_name": "Python 2",
   "language": "python",
   "name": "python2"
  },
  "language_info": {
   "codemirror_mode": {
    "name": "ipython",
    "version": 2
   },
   "file_extension": ".py",
   "mimetype": "text/x-python",
   "name": "python",
   "nbconvert_exporter": "python",
   "pygments_lexer": "ipython2",
   "version": "2.7.12"
  }
 },
 "nbformat": 4,
 "nbformat_minor": 0
}
